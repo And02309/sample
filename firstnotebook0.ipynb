{
  "nbformat": 4,
  "nbformat_minor": 0,
  "metadata": {
    "colab": {
      "provenance": [],
      "authorship_tag": "ABX9TyNizGtGPcD0WPsk7ysCBvU6",
      "include_colab_link": true
    },
    "kernelspec": {
      "name": "python3",
      "display_name": "Python 3"
    },
    "language_info": {
      "name": "python"
    }
  },
  "cells": [
    {
      "cell_type": "markdown",
      "metadata": {
        "id": "view-in-github",
        "colab_type": "text"
      },
      "source": [
        "<a href=\"https://colab.research.google.com/github/And02309/sample/blob/main/firstnotebook0.ipynb\" target=\"_parent\"><img src=\"https://colab.research.google.com/assets/colab-badge.svg\" alt=\"Open In Colab\"/></a>"
      ]
    },
    {
      "cell_type": "code",
      "execution_count": null,
      "metadata": {
        "colab": {
          "base_uri": "https://localhost:8080/"
        },
        "id": "sYSUGh5PzSfo",
        "outputId": "98e186f7-6c4a-4ca4-82b2-f6701adf7629"
      },
      "outputs": [
        {
          "output_type": "stream",
          "name": "stdout",
          "text": [
            "Hi everyone\n"
          ]
        }
      ],
      "source": [
        "print(\"Hi everyone\")"
      ]
    },
    {
      "cell_type": "markdown",
      "source": [
        "Esto es notacion markdowm\n"
      ],
      "metadata": {
        "id": "lmG9CcPtz88m"
      }
    }
  ]
}